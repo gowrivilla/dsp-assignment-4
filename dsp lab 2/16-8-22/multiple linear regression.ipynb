{
 "cells": [
  {
   "cell_type": "code",
   "execution_count": 1,
   "id": "e58dc911",
   "metadata": {},
   "outputs": [],
   "source": [
    "#packages and librays\n",
    "import pandas as pd\n",
    "import numpy as np\n",
    "from sklearn.linear_model import LinearRegression"
   ]
  },
  {
   "cell_type": "code",
   "execution_count": 2,
   "id": "34c377ae",
   "metadata": {},
   "outputs": [],
   "source": [
    "#taking data\n",
    "x=np.array([[5,7],[10,5],[15,4],[20,2],[25,8]])\n",
    "y=np.array([8,4,6,2,1])"
   ]
  },
  {
   "cell_type": "code",
   "execution_count": 3,
   "id": "1f7be811",
   "metadata": {},
   "outputs": [],
   "source": [
    "#Fitting Model\n",
    "model=LinearRegression().fit(x,y)"
   ]
  },
  {
   "cell_type": "code",
   "execution_count": 4,
   "id": "58bec510",
   "metadata": {},
   "outputs": [],
   "source": [
    "#Predicitng Y values for Given X values (b0+(b1*x))\n",
    "y_pre=model.predict(x)"
   ]
  },
  {
   "cell_type": "code",
   "execution_count": 5,
   "id": "97784ba3",
   "metadata": {},
   "outputs": [
    {
     "name": "stdout",
     "output_type": "stream",
     "text": [
      "Predict Score:  1.0\n",
      "Normal Score :  0.7824218330289029\n"
     ]
    }
   ],
   "source": [
    "print(\"Predict Score: \",model.score(x,y_pre))\n",
    "print(\"Normal Score : \",model.score(x,y))"
   ]
  },
  {
   "cell_type": "code",
   "execution_count": 6,
   "id": "7a9e42f1",
   "metadata": {},
   "outputs": [
    {
     "name": "stdout",
     "output_type": "stream",
     "text": [
      "[7.4845815  5.78414097 4.13656388 2.43612335 1.15859031]\n",
      "[8 4 6 2 1]\n"
     ]
    }
   ],
   "source": [
    "#Differnce Between Y predict and Given Y\n",
    "print(y_pre)\n",
    "print(y)"
   ]
  },
  {
   "cell_type": "code",
   "execution_count": 7,
   "id": "6c771400",
   "metadata": {},
   "outputs": [
    {
     "name": "stdout",
     "output_type": "stream",
     "text": [
      "b0:  8.709251101321586\n",
      "b1:  [-0.31894273  0.05286344]\n",
      "Rechecked Y predict Values :  [7.4845815  5.78414097 4.13656388 2.43612335 1.15859031]\n"
     ]
    }
   ],
   "source": [
    "#Rechecking With Formula (b0+(b1*x))\n",
    "print(\"b0: \",model.intercept_)\n",
    "print(\"b1: \",model.coef_)\n",
    "y_rc=model.intercept_+np.sum(model.coef_*x,axis=1)\n",
    "print(\"Rechecked Y predict Values : \",y_rc)"
   ]
  },
  {
   "cell_type": "code",
   "execution_count": 8,
   "id": "514e7050",
   "metadata": {},
   "outputs": [
    {
     "name": "stdout",
     "output_type": "stream",
     "text": [
      "[[12 13]\n",
      " [14 15]\n",
      " [16 18]\n",
      " [19 20]\n",
      " [21 22]]\n",
      "[5.569163   5.03700441 4.55770925 3.70660793 3.17444934]\n"
     ]
    }
   ],
   "source": [
    "#Predicitng Y values for Given X_new values (b0+(b1*x))\n",
    "x_new=np.array([12,13,14,15,16,18,19,20,21,22]).reshape(-1,2)\n",
    "y_new=model.predict(x_new)\n",
    "print(x_new)\n",
    "print(y_new)"
   ]
  },
  {
   "cell_type": "code",
   "execution_count": 9,
   "id": "7f1c5337",
   "metadata": {},
   "outputs": [
    {
     "name": "stdout",
     "output_type": "stream",
     "text": [
      "New Predict Score:  1.0\n"
     ]
    }
   ],
   "source": [
    "print(\"New Predict Score: \",model.score(x_new,y_new))"
   ]
  },
  {
   "cell_type": "code",
   "execution_count": null,
   "id": "f091854b",
   "metadata": {},
   "outputs": [],
   "source": []
  }
 ],
 "metadata": {
  "kernelspec": {
   "display_name": "Python 3 (ipykernel)",
   "language": "python",
   "name": "python3"
  },
  "language_info": {
   "codemirror_mode": {
    "name": "ipython",
    "version": 3
   },
   "file_extension": ".py",
   "mimetype": "text/x-python",
   "name": "python",
   "nbconvert_exporter": "python",
   "pygments_lexer": "ipython3",
   "version": "3.9.7"
  }
 },
 "nbformat": 4,
 "nbformat_minor": 5
}
